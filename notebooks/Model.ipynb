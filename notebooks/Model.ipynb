{
  "nbformat": 4,
  "nbformat_minor": 0,
  "metadata": {
    "colab": {
      "provenance": [],
      "authorship_tag": "ABX9TyOtunlzhIkW9VzWrOo6u58h",
      "include_colab_link": true
    },
    "kernelspec": {
      "name": "python3",
      "display_name": "Python 3"
    },
    "language_info": {
      "name": "python"
    }
  },
  "cells": [
    {
      "cell_type": "markdown",
      "metadata": {
        "id": "view-in-github",
        "colab_type": "text"
      },
      "source": [
        "<a href=\"https://colab.research.google.com/github/UznetDev/Diabetes-Prediction/blob/main/notebooks/Model.ipynb\" target=\"_parent\"><img src=\"https://colab.research.google.com/assets/colab-badge.svg\" alt=\"Open In Colab\"/></a>"
      ]
    },
    {
      "cell_type": "markdown",
      "source": [
        "## Import and install necessary model"
      ],
      "metadata": {
        "id": "026bajRXFDsP"
      }
    },
    {
      "cell_type": "code",
      "source": [
        "!pip install dill"
      ],
      "metadata": {
        "colab": {
          "base_uri": "https://localhost:8080/"
        },
        "id": "_SkqgqNmE3iN",
        "outputId": "e8a2473b-de68-43a1-eb71-a16886866cae"
      },
      "execution_count": 2,
      "outputs": [
        {
          "output_type": "stream",
          "name": "stdout",
          "text": [
            "Collecting dill\n",
            "  Downloading dill-0.3.9-py3-none-any.whl.metadata (10 kB)\n",
            "Downloading dill-0.3.9-py3-none-any.whl (119 kB)\n",
            "\u001b[?25l   \u001b[90m━━━━━━━━━━━━━━━━━━━━━━━━━━━━━━━━━━━━━━━━\u001b[0m \u001b[32m0.0/119.4 kB\u001b[0m \u001b[31m?\u001b[0m eta \u001b[36m-:--:--\u001b[0m\r\u001b[2K   \u001b[91m━━━━━━━━━━━━━━━━━━━━━━━━━━━━━━━━━━━━━\u001b[0m\u001b[91m╸\u001b[0m\u001b[90m━━\u001b[0m \u001b[32m112.6/119.4 kB\u001b[0m \u001b[31m4.3 MB/s\u001b[0m eta \u001b[36m0:00:01\u001b[0m\r\u001b[2K   \u001b[90m━━━━━━━━━━━━━━━━━━━━━━━━━━━━━━━━━━━━━━━━\u001b[0m \u001b[32m119.4/119.4 kB\u001b[0m \u001b[31m2.8 MB/s\u001b[0m eta \u001b[36m0:00:00\u001b[0m\n",
            "\u001b[?25hInstalling collected packages: dill\n",
            "Successfully installed dill-0.3.9\n"
          ]
        }
      ]
    },
    {
      "cell_type": "code",
      "execution_count": 36,
      "metadata": {
        "id": "xmgLMhMCELpK"
      },
      "outputs": [],
      "source": [
        "import pandas as pd\n",
        "import numpy as np\n",
        "from sklearn.model_selection import train_test_split, cross_val_score, StratifiedKFold\n",
        "from sklearn.pipeline import Pipeline\n",
        "from sklearn.base import BaseEstimator, TransformerMixin\n",
        "from sklearn.ensemble import RandomForestClassifier\n",
        "from sklearn.preprocessing import StandardScaler\n",
        "from sklearn.pipeline import Pipeline\n",
        "from sklearn.metrics import (accuracy_score,\n",
        "                             precision_score,\n",
        "                             recall_score,\n",
        "                             f1_score,\n",
        "                             roc_curve, roc_auc_score)\n",
        "import joblib\n",
        "import dill as pickle"
      ]
    },
    {
      "cell_type": "markdown",
      "source": [
        "## Train dataset"
      ],
      "metadata": {
        "id": "pcjGVpfyFIKI"
      }
    },
    {
      "cell_type": "markdown",
      "source": [
        "This dataset is originally from the National Institute of Diabetes and Digestive and Kidney Diseases. The objective is to predict based on diagnostic measurements whether a patient has diabetes."
      ],
      "metadata": {
        "id": "0KseNn0niEAw"
      }
    },
    {
      "cell_type": "code",
      "source": [
        "df = pd.read_csv('/content/diabetes.csv')\n",
        "df.head()"
      ],
      "metadata": {
        "colab": {
          "base_uri": "https://localhost:8080/",
          "height": 206
        },
        "id": "kY_bnjLhFUo2",
        "outputId": "53433cf1-5c88-4f73-b1c4-62a13f1feeaf"
      },
      "execution_count": 4,
      "outputs": [
        {
          "output_type": "execute_result",
          "data": {
            "text/plain": [
              "   Pregnancies  Glucose  BloodPressure  SkinThickness  Insulin   BMI  \\\n",
              "0            6      148             72             35        0  33.6   \n",
              "1            1       85             66             29        0  26.6   \n",
              "2            8      183             64              0        0  23.3   \n",
              "3            1       89             66             23       94  28.1   \n",
              "4            0      137             40             35      168  43.1   \n",
              "\n",
              "   DiabetesPedigreeFunction  Age  Outcome  \n",
              "0                     0.627   50        1  \n",
              "1                     0.351   31        0  \n",
              "2                     0.672   32        1  \n",
              "3                     0.167   21        0  \n",
              "4                     2.288   33        1  "
            ],
            "text/html": [
              "\n",
              "  <div id=\"df-3d688495-82a9-4f0b-9247-0b9d71876e5f\" class=\"colab-df-container\">\n",
              "    <div>\n",
              "<style scoped>\n",
              "    .dataframe tbody tr th:only-of-type {\n",
              "        vertical-align: middle;\n",
              "    }\n",
              "\n",
              "    .dataframe tbody tr th {\n",
              "        vertical-align: top;\n",
              "    }\n",
              "\n",
              "    .dataframe thead th {\n",
              "        text-align: right;\n",
              "    }\n",
              "</style>\n",
              "<table border=\"1\" class=\"dataframe\">\n",
              "  <thead>\n",
              "    <tr style=\"text-align: right;\">\n",
              "      <th></th>\n",
              "      <th>Pregnancies</th>\n",
              "      <th>Glucose</th>\n",
              "      <th>BloodPressure</th>\n",
              "      <th>SkinThickness</th>\n",
              "      <th>Insulin</th>\n",
              "      <th>BMI</th>\n",
              "      <th>DiabetesPedigreeFunction</th>\n",
              "      <th>Age</th>\n",
              "      <th>Outcome</th>\n",
              "    </tr>\n",
              "  </thead>\n",
              "  <tbody>\n",
              "    <tr>\n",
              "      <th>0</th>\n",
              "      <td>6</td>\n",
              "      <td>148</td>\n",
              "      <td>72</td>\n",
              "      <td>35</td>\n",
              "      <td>0</td>\n",
              "      <td>33.6</td>\n",
              "      <td>0.627</td>\n",
              "      <td>50</td>\n",
              "      <td>1</td>\n",
              "    </tr>\n",
              "    <tr>\n",
              "      <th>1</th>\n",
              "      <td>1</td>\n",
              "      <td>85</td>\n",
              "      <td>66</td>\n",
              "      <td>29</td>\n",
              "      <td>0</td>\n",
              "      <td>26.6</td>\n",
              "      <td>0.351</td>\n",
              "      <td>31</td>\n",
              "      <td>0</td>\n",
              "    </tr>\n",
              "    <tr>\n",
              "      <th>2</th>\n",
              "      <td>8</td>\n",
              "      <td>183</td>\n",
              "      <td>64</td>\n",
              "      <td>0</td>\n",
              "      <td>0</td>\n",
              "      <td>23.3</td>\n",
              "      <td>0.672</td>\n",
              "      <td>32</td>\n",
              "      <td>1</td>\n",
              "    </tr>\n",
              "    <tr>\n",
              "      <th>3</th>\n",
              "      <td>1</td>\n",
              "      <td>89</td>\n",
              "      <td>66</td>\n",
              "      <td>23</td>\n",
              "      <td>94</td>\n",
              "      <td>28.1</td>\n",
              "      <td>0.167</td>\n",
              "      <td>21</td>\n",
              "      <td>0</td>\n",
              "    </tr>\n",
              "    <tr>\n",
              "      <th>4</th>\n",
              "      <td>0</td>\n",
              "      <td>137</td>\n",
              "      <td>40</td>\n",
              "      <td>35</td>\n",
              "      <td>168</td>\n",
              "      <td>43.1</td>\n",
              "      <td>2.288</td>\n",
              "      <td>33</td>\n",
              "      <td>1</td>\n",
              "    </tr>\n",
              "  </tbody>\n",
              "</table>\n",
              "</div>\n",
              "    <div class=\"colab-df-buttons\">\n",
              "\n",
              "  <div class=\"colab-df-container\">\n",
              "    <button class=\"colab-df-convert\" onclick=\"convertToInteractive('df-3d688495-82a9-4f0b-9247-0b9d71876e5f')\"\n",
              "            title=\"Convert this dataframe to an interactive table.\"\n",
              "            style=\"display:none;\">\n",
              "\n",
              "  <svg xmlns=\"http://www.w3.org/2000/svg\" height=\"24px\" viewBox=\"0 -960 960 960\">\n",
              "    <path d=\"M120-120v-720h720v720H120Zm60-500h600v-160H180v160Zm220 220h160v-160H400v160Zm0 220h160v-160H400v160ZM180-400h160v-160H180v160Zm440 0h160v-160H620v160ZM180-180h160v-160H180v160Zm440 0h160v-160H620v160Z\"/>\n",
              "  </svg>\n",
              "    </button>\n",
              "\n",
              "  <style>\n",
              "    .colab-df-container {\n",
              "      display:flex;\n",
              "      gap: 12px;\n",
              "    }\n",
              "\n",
              "    .colab-df-convert {\n",
              "      background-color: #E8F0FE;\n",
              "      border: none;\n",
              "      border-radius: 50%;\n",
              "      cursor: pointer;\n",
              "      display: none;\n",
              "      fill: #1967D2;\n",
              "      height: 32px;\n",
              "      padding: 0 0 0 0;\n",
              "      width: 32px;\n",
              "    }\n",
              "\n",
              "    .colab-df-convert:hover {\n",
              "      background-color: #E2EBFA;\n",
              "      box-shadow: 0px 1px 2px rgba(60, 64, 67, 0.3), 0px 1px 3px 1px rgba(60, 64, 67, 0.15);\n",
              "      fill: #174EA6;\n",
              "    }\n",
              "\n",
              "    .colab-df-buttons div {\n",
              "      margin-bottom: 4px;\n",
              "    }\n",
              "\n",
              "    [theme=dark] .colab-df-convert {\n",
              "      background-color: #3B4455;\n",
              "      fill: #D2E3FC;\n",
              "    }\n",
              "\n",
              "    [theme=dark] .colab-df-convert:hover {\n",
              "      background-color: #434B5C;\n",
              "      box-shadow: 0px 1px 3px 1px rgba(0, 0, 0, 0.15);\n",
              "      filter: drop-shadow(0px 1px 2px rgba(0, 0, 0, 0.3));\n",
              "      fill: #FFFFFF;\n",
              "    }\n",
              "  </style>\n",
              "\n",
              "    <script>\n",
              "      const buttonEl =\n",
              "        document.querySelector('#df-3d688495-82a9-4f0b-9247-0b9d71876e5f button.colab-df-convert');\n",
              "      buttonEl.style.display =\n",
              "        google.colab.kernel.accessAllowed ? 'block' : 'none';\n",
              "\n",
              "      async function convertToInteractive(key) {\n",
              "        const element = document.querySelector('#df-3d688495-82a9-4f0b-9247-0b9d71876e5f');\n",
              "        const dataTable =\n",
              "          await google.colab.kernel.invokeFunction('convertToInteractive',\n",
              "                                                    [key], {});\n",
              "        if (!dataTable) return;\n",
              "\n",
              "        const docLinkHtml = 'Like what you see? Visit the ' +\n",
              "          '<a target=\"_blank\" href=https://colab.research.google.com/notebooks/data_table.ipynb>data table notebook</a>'\n",
              "          + ' to learn more about interactive tables.';\n",
              "        element.innerHTML = '';\n",
              "        dataTable['output_type'] = 'display_data';\n",
              "        await google.colab.output.renderOutput(dataTable, element);\n",
              "        const docLink = document.createElement('div');\n",
              "        docLink.innerHTML = docLinkHtml;\n",
              "        element.appendChild(docLink);\n",
              "      }\n",
              "    </script>\n",
              "  </div>\n",
              "\n",
              "\n",
              "<div id=\"df-385d0bd4-45d9-48d5-b61d-f8b2ff278a52\">\n",
              "  <button class=\"colab-df-quickchart\" onclick=\"quickchart('df-385d0bd4-45d9-48d5-b61d-f8b2ff278a52')\"\n",
              "            title=\"Suggest charts\"\n",
              "            style=\"display:none;\">\n",
              "\n",
              "<svg xmlns=\"http://www.w3.org/2000/svg\" height=\"24px\"viewBox=\"0 0 24 24\"\n",
              "     width=\"24px\">\n",
              "    <g>\n",
              "        <path d=\"M19 3H5c-1.1 0-2 .9-2 2v14c0 1.1.9 2 2 2h14c1.1 0 2-.9 2-2V5c0-1.1-.9-2-2-2zM9 17H7v-7h2v7zm4 0h-2V7h2v10zm4 0h-2v-4h2v4z\"/>\n",
              "    </g>\n",
              "</svg>\n",
              "  </button>\n",
              "\n",
              "<style>\n",
              "  .colab-df-quickchart {\n",
              "      --bg-color: #E8F0FE;\n",
              "      --fill-color: #1967D2;\n",
              "      --hover-bg-color: #E2EBFA;\n",
              "      --hover-fill-color: #174EA6;\n",
              "      --disabled-fill-color: #AAA;\n",
              "      --disabled-bg-color: #DDD;\n",
              "  }\n",
              "\n",
              "  [theme=dark] .colab-df-quickchart {\n",
              "      --bg-color: #3B4455;\n",
              "      --fill-color: #D2E3FC;\n",
              "      --hover-bg-color: #434B5C;\n",
              "      --hover-fill-color: #FFFFFF;\n",
              "      --disabled-bg-color: #3B4455;\n",
              "      --disabled-fill-color: #666;\n",
              "  }\n",
              "\n",
              "  .colab-df-quickchart {\n",
              "    background-color: var(--bg-color);\n",
              "    border: none;\n",
              "    border-radius: 50%;\n",
              "    cursor: pointer;\n",
              "    display: none;\n",
              "    fill: var(--fill-color);\n",
              "    height: 32px;\n",
              "    padding: 0;\n",
              "    width: 32px;\n",
              "  }\n",
              "\n",
              "  .colab-df-quickchart:hover {\n",
              "    background-color: var(--hover-bg-color);\n",
              "    box-shadow: 0 1px 2px rgba(60, 64, 67, 0.3), 0 1px 3px 1px rgba(60, 64, 67, 0.15);\n",
              "    fill: var(--button-hover-fill-color);\n",
              "  }\n",
              "\n",
              "  .colab-df-quickchart-complete:disabled,\n",
              "  .colab-df-quickchart-complete:disabled:hover {\n",
              "    background-color: var(--disabled-bg-color);\n",
              "    fill: var(--disabled-fill-color);\n",
              "    box-shadow: none;\n",
              "  }\n",
              "\n",
              "  .colab-df-spinner {\n",
              "    border: 2px solid var(--fill-color);\n",
              "    border-color: transparent;\n",
              "    border-bottom-color: var(--fill-color);\n",
              "    animation:\n",
              "      spin 1s steps(1) infinite;\n",
              "  }\n",
              "\n",
              "  @keyframes spin {\n",
              "    0% {\n",
              "      border-color: transparent;\n",
              "      border-bottom-color: var(--fill-color);\n",
              "      border-left-color: var(--fill-color);\n",
              "    }\n",
              "    20% {\n",
              "      border-color: transparent;\n",
              "      border-left-color: var(--fill-color);\n",
              "      border-top-color: var(--fill-color);\n",
              "    }\n",
              "    30% {\n",
              "      border-color: transparent;\n",
              "      border-left-color: var(--fill-color);\n",
              "      border-top-color: var(--fill-color);\n",
              "      border-right-color: var(--fill-color);\n",
              "    }\n",
              "    40% {\n",
              "      border-color: transparent;\n",
              "      border-right-color: var(--fill-color);\n",
              "      border-top-color: var(--fill-color);\n",
              "    }\n",
              "    60% {\n",
              "      border-color: transparent;\n",
              "      border-right-color: var(--fill-color);\n",
              "    }\n",
              "    80% {\n",
              "      border-color: transparent;\n",
              "      border-right-color: var(--fill-color);\n",
              "      border-bottom-color: var(--fill-color);\n",
              "    }\n",
              "    90% {\n",
              "      border-color: transparent;\n",
              "      border-bottom-color: var(--fill-color);\n",
              "    }\n",
              "  }\n",
              "</style>\n",
              "\n",
              "  <script>\n",
              "    async function quickchart(key) {\n",
              "      const quickchartButtonEl =\n",
              "        document.querySelector('#' + key + ' button');\n",
              "      quickchartButtonEl.disabled = true;  // To prevent multiple clicks.\n",
              "      quickchartButtonEl.classList.add('colab-df-spinner');\n",
              "      try {\n",
              "        const charts = await google.colab.kernel.invokeFunction(\n",
              "            'suggestCharts', [key], {});\n",
              "      } catch (error) {\n",
              "        console.error('Error during call to suggestCharts:', error);\n",
              "      }\n",
              "      quickchartButtonEl.classList.remove('colab-df-spinner');\n",
              "      quickchartButtonEl.classList.add('colab-df-quickchart-complete');\n",
              "    }\n",
              "    (() => {\n",
              "      let quickchartButtonEl =\n",
              "        document.querySelector('#df-385d0bd4-45d9-48d5-b61d-f8b2ff278a52 button');\n",
              "      quickchartButtonEl.style.display =\n",
              "        google.colab.kernel.accessAllowed ? 'block' : 'none';\n",
              "    })();\n",
              "  </script>\n",
              "</div>\n",
              "\n",
              "    </div>\n",
              "  </div>\n"
            ],
            "application/vnd.google.colaboratory.intrinsic+json": {
              "type": "dataframe",
              "variable_name": "df",
              "summary": "{\n  \"name\": \"df\",\n  \"rows\": 768,\n  \"fields\": [\n    {\n      \"column\": \"Pregnancies\",\n      \"properties\": {\n        \"dtype\": \"number\",\n        \"std\": 3,\n        \"min\": 0,\n        \"max\": 17,\n        \"num_unique_values\": 17,\n        \"samples\": [\n          6,\n          1,\n          3\n        ],\n        \"semantic_type\": \"\",\n        \"description\": \"\"\n      }\n    },\n    {\n      \"column\": \"Glucose\",\n      \"properties\": {\n        \"dtype\": \"number\",\n        \"std\": 31,\n        \"min\": 0,\n        \"max\": 199,\n        \"num_unique_values\": 136,\n        \"samples\": [\n          151,\n          101,\n          112\n        ],\n        \"semantic_type\": \"\",\n        \"description\": \"\"\n      }\n    },\n    {\n      \"column\": \"BloodPressure\",\n      \"properties\": {\n        \"dtype\": \"number\",\n        \"std\": 19,\n        \"min\": 0,\n        \"max\": 122,\n        \"num_unique_values\": 47,\n        \"samples\": [\n          86,\n          46,\n          85\n        ],\n        \"semantic_type\": \"\",\n        \"description\": \"\"\n      }\n    },\n    {\n      \"column\": \"SkinThickness\",\n      \"properties\": {\n        \"dtype\": \"number\",\n        \"std\": 15,\n        \"min\": 0,\n        \"max\": 99,\n        \"num_unique_values\": 51,\n        \"samples\": [\n          7,\n          12,\n          48\n        ],\n        \"semantic_type\": \"\",\n        \"description\": \"\"\n      }\n    },\n    {\n      \"column\": \"Insulin\",\n      \"properties\": {\n        \"dtype\": \"number\",\n        \"std\": 115,\n        \"min\": 0,\n        \"max\": 846,\n        \"num_unique_values\": 186,\n        \"samples\": [\n          52,\n          41,\n          183\n        ],\n        \"semantic_type\": \"\",\n        \"description\": \"\"\n      }\n    },\n    {\n      \"column\": \"BMI\",\n      \"properties\": {\n        \"dtype\": \"number\",\n        \"std\": 7.8841603203754405,\n        \"min\": 0.0,\n        \"max\": 67.1,\n        \"num_unique_values\": 248,\n        \"samples\": [\n          19.9,\n          31.0,\n          38.1\n        ],\n        \"semantic_type\": \"\",\n        \"description\": \"\"\n      }\n    },\n    {\n      \"column\": \"DiabetesPedigreeFunction\",\n      \"properties\": {\n        \"dtype\": \"number\",\n        \"std\": 0.33132859501277484,\n        \"min\": 0.078,\n        \"max\": 2.42,\n        \"num_unique_values\": 517,\n        \"samples\": [\n          1.731,\n          0.426,\n          0.138\n        ],\n        \"semantic_type\": \"\",\n        \"description\": \"\"\n      }\n    },\n    {\n      \"column\": \"Age\",\n      \"properties\": {\n        \"dtype\": \"number\",\n        \"std\": 11,\n        \"min\": 21,\n        \"max\": 81,\n        \"num_unique_values\": 52,\n        \"samples\": [\n          60,\n          47,\n          72\n        ],\n        \"semantic_type\": \"\",\n        \"description\": \"\"\n      }\n    },\n    {\n      \"column\": \"Outcome\",\n      \"properties\": {\n        \"dtype\": \"number\",\n        \"std\": 0,\n        \"min\": 0,\n        \"max\": 1,\n        \"num_unique_values\": 2,\n        \"samples\": [\n          0,\n          1\n        ],\n        \"semantic_type\": \"\",\n        \"description\": \"\"\n      }\n    }\n  ]\n}"
            }
          },
          "metadata": {},
          "execution_count": 4
        }
      ]
    },
    {
      "cell_type": "code",
      "source": [
        "df.shape"
      ],
      "metadata": {
        "colab": {
          "base_uri": "https://localhost:8080/"
        },
        "id": "gfNCE1JfhZzw",
        "outputId": "04ebcc57-4084-4e5a-8422-f127cb01ad34"
      },
      "execution_count": 37,
      "outputs": [
        {
          "output_type": "execute_result",
          "data": {
            "text/plain": [
              "(768, 9)"
            ]
          },
          "metadata": {},
          "execution_count": 37
        }
      ]
    },
    {
      "cell_type": "code",
      "source": [
        "df.info()"
      ],
      "metadata": {
        "colab": {
          "base_uri": "https://localhost:8080/"
        },
        "id": "K_XSRmAghbTt",
        "outputId": "f4367b95-b7c5-46ec-bbef-0170e11ff164"
      },
      "execution_count": 38,
      "outputs": [
        {
          "output_type": "stream",
          "name": "stdout",
          "text": [
            "<class 'pandas.core.frame.DataFrame'>\n",
            "RangeIndex: 768 entries, 0 to 767\n",
            "Data columns (total 9 columns):\n",
            " #   Column                    Non-Null Count  Dtype  \n",
            "---  ------                    --------------  -----  \n",
            " 0   Pregnancies               768 non-null    int64  \n",
            " 1   Glucose                   768 non-null    int64  \n",
            " 2   BloodPressure             768 non-null    int64  \n",
            " 3   SkinThickness             768 non-null    int64  \n",
            " 4   Insulin                   768 non-null    int64  \n",
            " 5   BMI                       768 non-null    float64\n",
            " 6   DiabetesPedigreeFunction  768 non-null    float64\n",
            " 7   Age                       768 non-null    int64  \n",
            " 8   Outcome                   768 non-null    int64  \n",
            "dtypes: float64(2), int64(7)\n",
            "memory usage: 54.1 KB\n"
          ]
        }
      ]
    },
    {
      "cell_type": "markdown",
      "source": [
        "We have 768 observations and 9 features, which is a bit few, but we'll give it a try."
      ],
      "metadata": {
        "id": "h3VxYtpZh81e"
      }
    },
    {
      "cell_type": "markdown",
      "source": [
        "### Feature\n",
        "\n",
        "* Pregnancies: Number of times pregnant\n",
        "* Glucose: Plasma glucose concentration a 2 hours in an oral glucose tolerance test\n",
        "* BloodPressure: Diastolic blood pressure (mm Hg)\n",
        "* SkinThickness: Triceps skin fold thickness (mm)\n",
        "* Insulin: 2-Hour serum insulin (mu U/ml)\n",
        "* BMI: Body mass index (weight in kg/(height in m)^2)\n",
        "* DiabetesPedigreeFunction: Diabetes pedigree function\n",
        "* Age: Age (years)\n",
        "* Outcome: Class variable (0 or 1)"
      ],
      "metadata": {
        "id": "_HfPhCWFiQCm"
      }
    },
    {
      "cell_type": "markdown",
      "source": [
        "We must predict `Outcome` with hight quality."
      ],
      "metadata": {
        "id": "ne51R_CxihyW"
      }
    },
    {
      "cell_type": "markdown",
      "source": [
        "## Transformers"
      ],
      "metadata": {
        "id": "QCW7SV40GjgP"
      }
    },
    {
      "cell_type": "markdown",
      "source": [
        "The `FeatureEngineering` transformer was created to generate some necessary new features, providing us with the required new columns."
      ],
      "metadata": {
        "id": "peF8VlOUi8ZR"
      }
    },
    {
      "cell_type": "code",
      "source": [
        "class FeatureEngineering(BaseEstimator, TransformerMixin):\n",
        "    def __init__(self):\n",
        "        self.epsilon = 1e-5\n",
        "\n",
        "    def fit(self, X, y=None):\n",
        "        return self\n",
        "\n",
        "    def transform(self, X):\n",
        "        data = X.copy()\n",
        "        data['PregnancyRatio'] = data['Pregnancies'] / (data['Age'] + self.epsilon)\n",
        "        data['RiskScore'] = (0.5 * data['Glucose'] + 0.3 * data['BMI'] + 0.2 * data['Age'])\n",
        "        data['InsulinEfficiency'] = (data['Insulin'] + self.epsilon) / (data['Glucose'] + self.epsilon)\n",
        "        data['Glucose_BMI'] = (data['Glucose'] + self.epsilon) / (data['BMI'] + self.epsilon)\n",
        "        data['BMI_Age'] = data['BMI'] * data['Age']\n",
        "        return data"
      ],
      "metadata": {
        "id": "nYG-wauPG54I"
      },
      "execution_count": 5,
      "outputs": []
    },
    {
      "cell_type": "markdown",
      "source": [
        "The `WoEEncoding` transformer is used to encode categorical columns with Weight of Evidence (WoE) values. This helps improve the prediction accuracy of the model."
      ],
      "metadata": {
        "id": "XHT4O3lKjkJy"
      }
    },
    {
      "cell_type": "code",
      "source": [
        "class WoEEncoding(BaseEstimator, TransformerMixin):\n",
        "    def __init__(self):\n",
        "        self.feature_bins = {\n",
        "            'Pregnancies': [-np.inf, 1.7, 5.1, 8.5, np.inf],\n",
        "            'Glucose': [-np.inf, 90.6, 119.4, 159.2, np.inf],\n",
        "            'BMI': [-np.inf, 26.84, 38.26, np.inf],\n",
        "            'RiskScore': [-np.inf, 55.61, 77.51, 99.41, np.inf],\n",
        "        }\n",
        "        self.woe_mappings = {}\n",
        "\n",
        "    def fit(self, X, y):\n",
        "        y = pd.Series(y, name='target')\n",
        "        for feature, bins in self.feature_bins.items():\n",
        "            X[f'{feature}_cat'] = pd.cut(X[feature], bins=bins)\n",
        "            woe_df = self._calculate_woe(X, f'{feature}_cat', y)\n",
        "            self.woe_mappings[feature] = woe_df.set_index(f'{feature}_cat')['WOE'].to_dict()\n",
        "        return self\n",
        "\n",
        "    def transform(self, X):\n",
        "        data = X.copy()\n",
        "        for feature in self.feature_bins.keys():\n",
        "            data[f'{feature}_cat'] = pd.cut(data[feature], bins=self.feature_bins[feature])\n",
        "            data[f'{feature}_woe'] = data[f'{feature}_cat'].map(self.woe_mappings[feature])\n",
        "            data.drop(columns=[f'{feature}_cat'], inplace=True)\n",
        "        return data\n",
        "\n",
        "    def _calculate_woe(self, data, feature_name, y):\n",
        "        data['target'] = y\n",
        "        grouped = data.groupby(feature_name, observed=False)['target'].value_counts().unstack(fill_value=0)\n",
        "        grouped.columns = ['non_events', 'events']\n",
        "        grouped['event_rate'] = grouped['events'] / grouped['events'].sum()\n",
        "        grouped['non_event_rate'] = grouped['non_events'] / grouped['non_events'].sum()\n",
        "        grouped['WOE'] = np.log(grouped['event_rate'] / grouped['non_event_rate'])\n",
        "        return grouped.reset_index()"
      ],
      "metadata": {
        "id": "JxuaK1vcZLkx"
      },
      "execution_count": 6,
      "outputs": []
    },
    {
      "cell_type": "markdown",
      "source": [
        "The `ColumnSelector` transformer is used to select exactly the necessary columns for our model, helping to prevent unnecessary noise."
      ],
      "metadata": {
        "id": "tBT3q7tUj4q0"
      }
    },
    {
      "cell_type": "code",
      "source": [
        "class ColumnSelector(BaseEstimator, TransformerMixin):\n",
        "    def __init__(self, columns):\n",
        "        self.columns = columns\n",
        "\n",
        "    def fit(self, X, y=None):\n",
        "        return self\n",
        "\n",
        "    def transform(self, X):\n",
        "        return X[self.columns]"
      ],
      "metadata": {
        "id": "4nvqiQyDH_Xa"
      },
      "execution_count": 7,
      "outputs": []
    },
    {
      "cell_type": "markdown",
      "source": [
        "## Model"
      ],
      "metadata": {
        "id": "ax7R5-KUHhL3"
      }
    },
    {
      "cell_type": "markdown",
      "source": [
        "We will split the data and run `StratifiedKFold`. `StratifiedKFold` is used for predicting binary classes."
      ],
      "metadata": {
        "id": "EMM25lWvkQsO"
      }
    },
    {
      "cell_type": "code",
      "source": [
        "X = df.drop(columns=['Outcome'])\n",
        "y = df['Outcome']\n",
        "X_train, X_test, y_train, y_test = train_test_split(X, y, test_size=0.2, random_state=42, stratify=y)\n",
        "cv = StratifiedKFold(n_splits=5,\n",
        "                     shuffle=True,\n",
        "                     random_state=42)"
      ],
      "metadata": {
        "id": "zLkCifwnQx46"
      },
      "execution_count": 8,
      "outputs": []
    },
    {
      "cell_type": "markdown",
      "source": [
        "In this section, we use the `RandomForestClassifier` model because it has shown the best results on this dataset. The model's hyperparameters were determined using the Optuna optimizer and integrated with previous transformers through a `Pipeline`. This approach makes the modeling process efficient and convenient."
      ],
      "metadata": {
        "id": "Y_FxscUPkS26"
      }
    },
    {
      "cell_type": "code",
      "source": [
        "# Required columns after feature engineering and WoE encoding\n",
        "selected_columns = [\n",
        "    'Pregnancies', 'Glucose', 'BMI', 'PregnancyRatio',\n",
        "    'RiskScore', 'InsulinEfficiency', 'Glucose_BMI', 'BMI_Age',\n",
        "    'Glucose_woe', 'RiskScore_woe'\n",
        "]\n",
        "\n",
        "# Pipeline setup\n",
        "pipeline = Pipeline([\n",
        "    ('feature_engineering', FeatureEngineering()),\n",
        "    ('woe_encoding', WoEEncoding()),\n",
        "    ('column_selector', ColumnSelector(selected_columns)),\n",
        "    ('random_forest', RandomForestClassifier(max_depth=6,\n",
        "                                             n_estimators=300,\n",
        "                                             criterion='entropy'))\n",
        "])\n",
        "\n",
        "# Train and evaluate\n",
        "X = df.drop(columns=['Outcome'])\n",
        "y = df['Outcome']\n",
        "cv_score = cross_val_score(pipeline, X, y, cv=cv, scoring='roc_auc').mean()\n",
        "pipeline.fit(X, y)\n",
        "print(f\"Cross-validated AUC: {cv_score:.4f}\")"
      ],
      "metadata": {
        "colab": {
          "base_uri": "https://localhost:8080/"
        },
        "id": "NTJsad6uSOHo",
        "outputId": "76d34615-d3cd-4512-856f-fed4ff1e4d50"
      },
      "execution_count": 30,
      "outputs": [
        {
          "output_type": "stream",
          "name": "stdout",
          "text": [
            "Cross-validated AUC: 0.8367\n"
          ]
        }
      ]
    },
    {
      "cell_type": "markdown",
      "source": [
        "We will evaluate the model, which was developed using ROC AUC as the primary metric. Model selection was also based on ROC AUC and validated through cross-validation, as we only have 768 data points, making cross-validation especially useful. In determining thresholds, more emphasis was placed on recall since recall is considered more important in this scenario."
      ],
      "metadata": {
        "id": "nvq0y9Y6l1IJ"
      }
    },
    {
      "cell_type": "code",
      "source": [
        "thresholds = 0.32\n",
        "y_pred_proba = pipeline.predict_proba(X_test)[:, 1]\n",
        "y_pred = (y_pred_proba >= thresholds).astype(int)\n",
        "\n",
        "f1_result = f1_score(y_test, y_pred)\n",
        "accuracy_result = accuracy_score(y_test, y_pred)\n",
        "recall_result = recall_score(y_test, y_pred)\n",
        "precision_result = precision_score(y_test, y_pred)\n",
        "\n",
        "print(f\"F1 Score: {f1_result:.4f}\")\n",
        "print(f\"Accuracy Score: {accuracy_result:.4f}\")\n",
        "print(f\"Recall Score: {recall_result:.4f}\")\n",
        "print(f\"Precision Score: {precision_result:.4f}\")\n",
        "print(f\"ROC AUC Score: {cv_score:.4f}\")"
      ],
      "metadata": {
        "colab": {
          "base_uri": "https://localhost:8080/"
        },
        "id": "8oSnv3tWa_rZ",
        "outputId": "5d869567-b44a-47df-89ec-d6c4eaeee5ae"
      },
      "execution_count": 32,
      "outputs": [
        {
          "output_type": "stream",
          "name": "stdout",
          "text": [
            "F1 Score: 0.7556\n",
            "Accuracy Score: 0.7857\n",
            "Recall Score: 0.9444\n",
            "Precision Score: 0.6296\n",
            "ROC AUC Score: 0.8367\n"
          ]
        }
      ]
    },
    {
      "cell_type": "markdown",
      "source": [
        "### Save model"
      ],
      "metadata": {
        "id": "PouoYJZggXK9"
      }
    },
    {
      "cell_type": "markdown",
      "source": [
        "The model has been saved for future use."
      ],
      "metadata": {
        "id": "gBeOcIHPl8uL"
      }
    },
    {
      "cell_type": "code",
      "source": [
        "with open('model.pkl', 'wb') as f:\n",
        "    pickle.dump(pipeline, f)"
      ],
      "metadata": {
        "id": "A1B1HdLMeR1h"
      },
      "execution_count": 34,
      "outputs": []
    }
  ]
}